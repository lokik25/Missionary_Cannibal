{
 "cells": [
  {
   "cell_type": "code",
   "execution_count": 1,
   "id": "0dfb30fe",
   "metadata": {},
   "outputs": [
    {
     "name": "stdout",
     "output_type": "stream",
     "text": [
      "  | 🌊🌊🌊🌊 🚢 | 💂💂💂 👹👹👹\n"
     ]
    },
    {
     "ename": "KeyboardInterrupt",
     "evalue": "Interrupted by user",
     "output_type": "error",
     "traceback": [
      "\u001b[1;31m---------------------------------------------------------------------------\u001b[0m",
      "\u001b[1;31mKeyboardInterrupt\u001b[0m                         Traceback (most recent call last)",
      "\u001b[1;32m~\\AppData\\Local\\Temp/ipykernel_11560/2452855415.py\u001b[0m in \u001b[0;36m<module>\u001b[1;34m\u001b[0m\n\u001b[0;32m     13\u001b[0m \u001b[1;32mwhile\u001b[0m \u001b[1;32mTrue\u001b[0m\u001b[1;33m:\u001b[0m\u001b[1;33m\u001b[0m\u001b[1;33m\u001b[0m\u001b[0m\n\u001b[0;32m     14\u001b[0m \u001b[1;33m\u001b[0m\u001b[0m\n\u001b[1;32m---> 15\u001b[1;33m     \u001b[0mmissionaries\u001b[0m\u001b[1;33m=\u001b[0m\u001b[0mint\u001b[0m\u001b[1;33m(\u001b[0m\u001b[0minput\u001b[0m\u001b[1;33m(\u001b[0m\u001b[1;34m\"Enter number of missionaries:\"\u001b[0m\u001b[1;33m)\u001b[0m\u001b[1;33m)\u001b[0m\u001b[1;33m\u001b[0m\u001b[1;33m\u001b[0m\u001b[0m\n\u001b[0m\u001b[0;32m     16\u001b[0m     \u001b[0mcannibals\u001b[0m\u001b[1;33m=\u001b[0m\u001b[0mint\u001b[0m\u001b[1;33m(\u001b[0m\u001b[0minput\u001b[0m\u001b[1;33m(\u001b[0m\u001b[1;34m\"Enter number of cannibals:\"\u001b[0m\u001b[1;33m)\u001b[0m\u001b[1;33m)\u001b[0m\u001b[1;33m\u001b[0m\u001b[1;33m\u001b[0m\u001b[0m\n\u001b[0;32m     17\u001b[0m     \u001b[0mclear_output\u001b[0m\u001b[1;33m(\u001b[0m\u001b[1;33m)\u001b[0m\u001b[1;33m\u001b[0m\u001b[1;33m\u001b[0m\u001b[0m\n",
      "\u001b[1;32m~\\anaconda3\\lib\\site-packages\\ipykernel\\kernelbase.py\u001b[0m in \u001b[0;36mraw_input\u001b[1;34m(self, prompt)\u001b[0m\n\u001b[0;32m   1004\u001b[0m                 \u001b[1;34m\"raw_input was called, but this frontend does not support input requests.\"\u001b[0m\u001b[1;33m\u001b[0m\u001b[1;33m\u001b[0m\u001b[0m\n\u001b[0;32m   1005\u001b[0m             )\n\u001b[1;32m-> 1006\u001b[1;33m         return self._input_request(\n\u001b[0m\u001b[0;32m   1007\u001b[0m             \u001b[0mstr\u001b[0m\u001b[1;33m(\u001b[0m\u001b[0mprompt\u001b[0m\u001b[1;33m)\u001b[0m\u001b[1;33m,\u001b[0m\u001b[1;33m\u001b[0m\u001b[1;33m\u001b[0m\u001b[0m\n\u001b[0;32m   1008\u001b[0m             \u001b[0mself\u001b[0m\u001b[1;33m.\u001b[0m\u001b[0m_parent_ident\u001b[0m\u001b[1;33m[\u001b[0m\u001b[1;34m\"shell\"\u001b[0m\u001b[1;33m]\u001b[0m\u001b[1;33m,\u001b[0m\u001b[1;33m\u001b[0m\u001b[1;33m\u001b[0m\u001b[0m\n",
      "\u001b[1;32m~\\anaconda3\\lib\\site-packages\\ipykernel\\kernelbase.py\u001b[0m in \u001b[0;36m_input_request\u001b[1;34m(self, prompt, ident, parent, password)\u001b[0m\n\u001b[0;32m   1049\u001b[0m             \u001b[1;32mexcept\u001b[0m \u001b[0mKeyboardInterrupt\u001b[0m\u001b[1;33m:\u001b[0m\u001b[1;33m\u001b[0m\u001b[1;33m\u001b[0m\u001b[0m\n\u001b[0;32m   1050\u001b[0m                 \u001b[1;31m# re-raise KeyboardInterrupt, to truncate traceback\u001b[0m\u001b[1;33m\u001b[0m\u001b[1;33m\u001b[0m\u001b[0m\n\u001b[1;32m-> 1051\u001b[1;33m                 \u001b[1;32mraise\u001b[0m \u001b[0mKeyboardInterrupt\u001b[0m\u001b[1;33m(\u001b[0m\u001b[1;34m\"Interrupted by user\"\u001b[0m\u001b[1;33m)\u001b[0m \u001b[1;32mfrom\u001b[0m \u001b[1;32mNone\u001b[0m\u001b[1;33m\u001b[0m\u001b[1;33m\u001b[0m\u001b[0m\n\u001b[0m\u001b[0;32m   1052\u001b[0m             \u001b[1;32mexcept\u001b[0m \u001b[0mException\u001b[0m\u001b[1;33m:\u001b[0m\u001b[1;33m\u001b[0m\u001b[1;33m\u001b[0m\u001b[0m\n\u001b[0;32m   1053\u001b[0m                 \u001b[0mself\u001b[0m\u001b[1;33m.\u001b[0m\u001b[0mlog\u001b[0m\u001b[1;33m.\u001b[0m\u001b[0mwarning\u001b[0m\u001b[1;33m(\u001b[0m\u001b[1;34m\"Invalid Message:\"\u001b[0m\u001b[1;33m,\u001b[0m \u001b[0mexc_info\u001b[0m\u001b[1;33m=\u001b[0m\u001b[1;32mTrue\u001b[0m\u001b[1;33m)\u001b[0m\u001b[1;33m\u001b[0m\u001b[1;33m\u001b[0m\u001b[0m\n",
      "\u001b[1;31mKeyboardInterrupt\u001b[0m: Interrupted by user"
     ]
    }
   ],
   "source": [
    "from IPython.display import clear_output\n",
    "\n",
    "boat_side=\"right\"\n",
    "missionaries_on_right=3\n",
    "cannibals_on_right=3\n",
    "missionaries_on_left=0\n",
    "cannibals_on_left=0\n",
    "\n",
    "print(missionaries_on_left*'\\U0001f482',cannibals_on_left*'\\U0001f479','|',4*'\\U0001f30a','\\U0001f6A2','|',missionaries_on_right*'\\U0001f482',cannibals_on_right*'\\U0001f479')\n",
    "\n",
    "\n",
    "\n",
    "while True:\n",
    "    \n",
    "    missionaries=int(input(\"Enter number of missionaries:\"))\n",
    "    cannibals=int(input(\"Enter number of cannibals:\"))\n",
    "    clear_output()\n",
    "    if (missionaries+cannibals)>2 or (missionaries+cannibals)<=0:\n",
    "            print(\"Invalid move 1!!\")\n",
    "            continue\n",
    "    if boat_side==\"right\":\n",
    "        \n",
    "        \n",
    "        \n",
    "        if (missionaries>missionaries_on_right) or (cannibals>cannibals_on_right):\n",
    "            print('Invalid move2!!')\n",
    "            continue\n",
    "\n",
    "        missionaries_on_left=missionaries+missionaries_on_left\n",
    "        missionaries_on_right=missionaries_on_right - missionaries\n",
    "        cannibals_on_left=cannibals+cannibals_on_left\n",
    "        cannibals_on_right=cannibals_on_right - cannibals\n",
    "        \n",
    "        \n",
    "\n",
    "        boat_side=\"left\"\n",
    "        \n",
    "        print(missionaries_on_left*'\\U0001f482',cannibals_on_left*'\\U0001f479','|','\\U0001f6A2',4*'\\U0001f30a','|',missionaries_on_right*'\\U0001f482',cannibals_on_right*'\\U0001f479')\n",
    "        \n",
    "\n",
    "    elif boat_side==\"left\":\n",
    "        \n",
    "   \n",
    "\n",
    "        if (missionaries>missionaries_on_left) or (cannibals>cannibals_on_left):\n",
    "            print('Invalid move2!!')\n",
    "            continue\n",
    "\n",
    "        missionaries_on_right=missionaries_on_right+missionaries\n",
    "        cannibals_on_right=cannibals_on_right+cannibals\n",
    "        missionaries_on_left=missionaries_on_left-missionaries\n",
    "        cannibals_on_left=cannibals_on_left-cannibals\n",
    "        \n",
    "        \n",
    "\n",
    "        boat_side=\"right\"\n",
    "        print(missionaries_on_left*'\\U0001f482',cannibals_on_left*'\\U0001f479','|',4*'\\U0001f30a','\\U0001f6A2','|',missionaries_on_right*'\\U0001f482',cannibals_on_right*'\\U0001f479')\n",
    "\n",
    "    if (missionaries_on_left<cannibals_on_left) and missionaries_on_left>0:\n",
    "            print('You lose!!')\n",
    "            break\n",
    "\n",
    "    elif (missionaries_on_right<cannibals_on_right) and missionaries_on_right>0:\n",
    "            print('You lose!!')\n",
    "            break\n",
    "\n",
    "\n",
    "    elif missionaries_on_left==3 and cannibals_on_left==3:\n",
    "            print('YOU WIN!!!!')\n",
    "            break\n",
    "\n",
    "clear_output()"
   ]
  },
  {
   "cell_type": "code",
   "execution_count": null,
   "id": "dff33aab",
   "metadata": {},
   "outputs": [],
   "source": []
  }
 ],
 "metadata": {
  "kernelspec": {
   "display_name": "Python 3 (ipykernel)",
   "language": "python",
   "name": "python3"
  },
  "language_info": {
   "codemirror_mode": {
    "name": "ipython",
    "version": 3
   },
   "file_extension": ".py",
   "mimetype": "text/x-python",
   "name": "python",
   "nbconvert_exporter": "python",
   "pygments_lexer": "ipython3",
   "version": "3.9.7"
  }
 },
 "nbformat": 4,
 "nbformat_minor": 5
}
